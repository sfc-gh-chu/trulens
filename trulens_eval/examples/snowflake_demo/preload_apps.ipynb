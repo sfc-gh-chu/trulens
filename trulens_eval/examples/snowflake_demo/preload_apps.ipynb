{
 "cells": [
  {
   "cell_type": "markdown",
   "metadata": {},
   "source": [
    "# Streamlit example development tuning\n",
    "\n",
    "In this notebook, we load a few configurations of the streamlit core app and run a test set through TruLens evaluations. This shows how to test and find the optimal configuration of any LLM app, carefully keeping track of configuration metadata."
   ]
  },
  {
   "cell_type": "code",
   "execution_count": null,
   "metadata": {},
   "outputs": [],
   "source": [
    "import os\n",
    "from dotenv import load_dotenv\n",
    "from common_ui import TruCustomApp, generator, ModelConfig, feedbacks_rag\n",
    "import streamlit as st\n",
    "\n",
    "from trulens_eval import Tru\n",
    "\n",
    "load_dotenv()\n",
    "\n",
    "tru = Tru()\n",
    "tru.run_dashboard()"
   ]
  },
  {
   "cell_type": "markdown",
   "metadata": {},
   "source": [
    "## Create the test set"
   ]
  },
  {
   "cell_type": "code",
   "execution_count": null,
   "metadata": {},
   "outputs": [],
   "source": [
    "from schema import Conversation, Message\n",
    "\n",
    "def create_conversation_from_user_message(user_message: str) -> Conversation:\n",
    "    conversation = Conversation()\n",
    "    conversation.add_message(Message(role=\"user\", content=user_message))\n",
    "    return conversation"
   ]
  },
  {
   "cell_type": "code",
   "execution_count": null,
   "metadata": {},
   "outputs": [],
   "source": [
    "prompts = [\n",
    "    \"How do I launch a streamlit app?\",\n",
    "    \"How can I capture the state of my session in streamlit?\",\n",
    "    \"How do I install streamlit?\",\n",
    "    \"How do I change the background color of a streamlit app?\",\n",
    "    \"What's the advantage of using a streamlit form?\",\n",
    "    \"What are some ways I should use checkboxes?\",\n",
    "    \"How can I conserve space and hide away content?\",\n",
    "    \"Can you recommend some resources for learning Streamlit?\",\n",
    "    \"What are some common use cases for Streamlit?\",\n",
    "    \"How can I deploy a streamlit app on the cloud?\",\n",
    "    \"How do I add a logo to streamlit?\",\n",
    "    \"What is the best way to deploy a Streamlit app?\",\n",
    "    \"How should I use a streamlit toggle?\",\n",
    "    \"How do I add new pages to my streamlit app?\",\n",
    "    \"How do I write a dataframe to display in my dashboard?\",\n",
    "    \"Can I plot a map in streamlit? If so, how?\",\n",
    "    \"How do vector stores enable efficient similarity search?\",\n",
    "    \"How do I prevent my child from using the internet?\",\n",
    "    \"What should I pack for a camping trip this weekend?\",\n",
    "    \"How do I defend myself against bear attacks?\"\n",
    "]\n",
    "\n",
    "conversations = [create_conversation_from_user_message(prompt) for prompt in prompts]\n"
   ]
  },
  {
   "cell_type": "markdown",
   "metadata": {},
   "source": [
    "## Test the first app"
   ]
  },
  {
   "cell_type": "code",
   "execution_count": null,
   "metadata": {},
   "outputs": [],
   "source": [
    "\n",
    "tru_recorder_1 = TruCustomApp(generator, app_id=\"app-dev-1\", metadata={\"model\": \"Snowflake Arctic\", \"use_rag\": True, \"temperature\": 0.2, \"top_p\": 0.1}, feedbacks=feedbacks_rag)\n",
    "generator.set_retriever_api_key(os.environ['PINECONE_API_KEY'])\n",
    "\n",
    "with tru_recorder_1:\n",
    "    for conversation in conversations:\n",
    "        model_config_1 = ModelConfig(model=\"Snowflake Arctic\", use_rag=True, temperature=0.2, top_p=0.1)\n",
    "        chat = st.chat_message(\"assistant\")\n",
    "        conversation.model_config = model_config_1\n",
    "        user_message, prompt = generator.prepare_prompt(conversation)\n",
    "        if conversation.model_config.use_rag:\n",
    "            text_response = generator.retrieve_and_generate_response(user_message, prompt, conversation, chat)"
   ]
  },
  {
   "cell_type": "markdown",
   "metadata": {},
   "source": [
    "## Test the second app"
   ]
  },
  {
   "cell_type": "code",
   "execution_count": null,
   "metadata": {},
   "outputs": [],
   "source": [
    "tru_recorder_2 = TruCustomApp(generator, app_id=\"app-dev-2\", metadata={\"model\": \"Snowflake Arctic\", \"use_rag\": True, \"temperature\": 0.8, \"top_p\": 0.9}, feedbacks=feedbacks_rag)"
   ]
  },
  {
   "cell_type": "code",
   "execution_count": null,
   "metadata": {},
   "outputs": [],
   "source": [
    "generator.set_retriever_api_key(os.environ['NEW_PINECONE_API_KEY'])\n",
    "\n",
    "with tru_recorder_2:\n",
    "    for conversation in conversations:\n",
    "        model_config_2 = ModelConfig(model=\"Snowflake Arctic\", use_rag=True, temperature=0.8, top_p=0.9)\n",
    "        chat = st.chat_message(\"assistant\")\n",
    "        conversation.model_config = model_config_2\n",
    "        user_message, prompt = generator.prepare_prompt(conversation)\n",
    "        if conversation.model_config.use_rag:\n",
    "            generator.retrieve_and_generate_response(user_message, prompt, conversation, chat)"
   ]
  },
  {
   "cell_type": "code",
   "execution_count": null,
   "metadata": {},
   "outputs": [],
   "source": []
  }
 ],
 "metadata": {
  "kernelspec": {
   "display_name": "streamlit_demo",
   "language": "python",
   "name": "python3"
  },
  "language_info": {
   "codemirror_mode": {
    "name": "ipython",
    "version": 3
   },
   "file_extension": ".py",
   "mimetype": "text/x-python",
   "name": "python",
   "nbconvert_exporter": "python",
   "pygments_lexer": "ipython3",
   "version": "3.12.3"
  }
 },
 "nbformat": 4,
 "nbformat_minor": 2
}
